{
 "cells": [
  {
   "cell_type": "markdown",
   "metadata": {},
   "source": [
    "# TypeScript 로 Angular 공부하기"
   ]
  },
  {
   "cell_type": "markdown",
   "metadata": {},
   "source": [
    "## 먼저 ECMAScript 6 와 TypeScript 배우기"
   ]
  },
  {
   "cell_type": "markdown",
   "metadata": {},
   "source": [
    "### 왜 TypeScript 로 Angular 를 개발할까?\n",
    "\n",
    "- 개발 생산성을 위하여\n",
    "    - JavaScript 로 디버깅시 Runtime error 만 발생하기 때문에 디버깅이 다소 제한적이다.\n",
    "    - TypeScript 는 컴파일 과정을 거치기 때문에 코드 작성중에 발생되는 문제에 대해 비교적 유리하게 대처할 수 있다.\n",
    "    - 데이터 타입이 있다.\n",
    "    - IDE 에서 개발시 더욱 유리하다.\n",
    "- Angular 가이드 문서에서 제공하는 예제 코드 등은 모두 TypeScript 로 먼저 제공된다."
   ]
  },
  {
   "cell_type": "markdown",
   "metadata": {},
   "source": [
    "### TypeScript 기본 배우기"
   ]
  },
  {
   "cell_type": "markdown",
   "metadata": {},
   "source": [
    "- http://www.typescriptlang.org\n",
    "- http://www.typescriptlang.org/docs/handbook/typescript-in-5-minutes.html"
   ]
  },
  {
   "cell_type": "markdown",
   "metadata": {},
   "source": [
    "### Jupyter Notebook 으로 TypeScript 학습시 주의 점\n",
    "\n",
    "- 일반적으로 사용되는 브라우저에 포함되어 있는 document 함수는 사용할 수 없다."
   ]
  },
  {
   "cell_type": "code",
   "execution_count": 3,
   "metadata": {
    "ExecuteTime": {
     "end_time": "2018-01-02T04:01:29.837026Z",
     "start_time": "2018-01-02T04:01:29.758Z"
    }
   },
   "outputs": [
    {
     "ename": "ReferenceError",
     "evalue": "document is not defined",
     "output_type": "error",
     "traceback": [
      "evalmachine.<anonymous>:8",
      "var button = document.createElement(\"button\");",
      "             ^",
      "",
      "ReferenceError: document is not defined",
      "    at evalmachine.<anonymous>:8:14",
      "    at ContextifyScript.Script.runInThisContext (vm.js:25:33)",
      "    at Object.runInThisContext (vm.js:97:38)",
      "    at run ([eval]:971:15)",
      "    at onRunRequest ([eval]:798:18)",
      "    at onMessage ([eval]:758:13)",
      "    at emitTwo (events.js:106:13)",
      "    at process.emit (events.js:191:7)",
      "    at process.nextTick (internal/child_process.js:787:12)",
      "    at _combinedTickCallback (internal/process/next_tick.js:73:7)"
     ]
    }
   ],
   "source": [
    "function Greeter(greeting: string) {\n",
    "    this.greeting = greeting;\n",
    "}\n",
    "\n",
    "Greeter.prototype.greet = function() {\n",
    "    return \"Hello, \" + this.greeting;\n",
    "}\n",
    "\n",
    "let greater = new Greeter(\"world\");\n",
    "\n",
    "let button = document.createElement(\"button\");\n",
    "button.textContent = \"Say Hello\";\n",
    "button.onclick = function() {\n",
    "    alert(greeter.greet());\n",
    "};\n",
    "\n",
    "document.body.appendChild(button);"
   ]
  },
  {
   "cell_type": "markdown",
   "metadata": {},
   "source": [
    "### 데이터 타입 지정"
   ]
  },
  {
   "cell_type": "code",
   "execution_count": 4,
   "metadata": {
    "ExecuteTime": {
     "end_time": "2018-01-02T05:54:11.645683Z",
     "start_time": "2018-01-02T05:54:11.582Z"
    }
   },
   "outputs": [
    {
     "data": {
      "text/plain": [
       "undefined"
      ]
     },
     "execution_count": 4,
     "metadata": {},
     "output_type": "execute_result"
    }
   ],
   "source": [
    "let name1 = 'John Smith';\n",
    "let name2 : string = 'John Smith';"
   ]
  },
  {
   "cell_type": "code",
   "execution_count": 8,
   "metadata": {
    "ExecuteTime": {
     "end_time": "2018-01-02T05:55:01.600734Z",
     "start_time": "2018-01-02T05:55:01.471Z"
    }
   },
   "outputs": [
    {
     "data": {
      "text/plain": [
       "'string'"
      ]
     },
     "execution_count": 8,
     "metadata": {},
     "output_type": "execute_result"
    }
   ],
   "source": [
    "typeof(name1);"
   ]
  },
  {
   "cell_type": "code",
   "execution_count": 9,
   "metadata": {
    "ExecuteTime": {
     "end_time": "2018-01-02T05:55:02.440012Z",
     "start_time": "2018-01-02T05:55:02.406Z"
    }
   },
   "outputs": [
    {
     "data": {
      "text/plain": [
       "'string'"
      ]
     },
     "execution_count": 9,
     "metadata": {},
     "output_type": "execute_result"
    }
   ],
   "source": [
    "typeof(name2);"
   ]
  },
  {
   "cell_type": "code",
   "execution_count": 10,
   "metadata": {
    "ExecuteTime": {
     "end_time": "2018-01-02T06:00:10.670880Z",
     "start_time": "2018-01-02T06:00:10.635Z"
    }
   },
   "outputs": [
    {
     "data": {
      "text/plain": [
       "undefined"
      ]
     },
     "execution_count": 10,
     "metadata": {},
     "output_type": "execute_result"
    }
   ],
   "source": [
    "let salary : number;\n",
    "let name : string = 'Alex';\n",
    "let isValid : boolean;\n",
    "let customerName : string = null;"
   ]
  },
  {
   "cell_type": "markdown",
   "metadata": {},
   "source": [
    "### 함수\n",
    "\n",
    "- JavaScript 함수와 비슷하나 argument, return 값에 데이터 타입을 지정할 수 있다는 점이 다르다."
   ]
  },
  {
   "cell_type": "code",
   "execution_count": 13,
   "metadata": {
    "ExecuteTime": {
     "end_time": "2018-01-02T06:24:05.070747Z",
     "start_time": "2018-01-02T06:24:05.037Z"
    }
   },
   "outputs": [
    {
     "data": {
      "text/plain": [
       "undefined"
      ]
     },
     "execution_count": 13,
     "metadata": {},
     "output_type": "execute_result"
    }
   ],
   "source": [
    "function calcTax(state : string, income : number, dependents : number) : number {\n",
    "    if(state === 'NY') {\n",
    "        return income * 0.06 - dependents * 500;\n",
    "    } else if(state === 'NJ') {\n",
    "        return income * 0.05 - dependents * 300;\n",
    "    }\n",
    "}"
   ]
  },
  {
   "cell_type": "code",
   "execution_count": 18,
   "metadata": {
    "ExecuteTime": {
     "end_time": "2018-01-02T06:25:42.337676Z",
     "start_time": "2018-01-02T06:25:42.311Z"
    }
   },
   "outputs": [
    {
     "data": {
      "text/plain": [
       "undefined"
      ]
     },
     "execution_count": 18,
     "metadata": {},
     "output_type": "execute_result"
    }
   ],
   "source": [
    "let tax : number = calcTax('NJ', 50000, 'two');\n",
    "\n",
    "// 강제로 3번째 인자로 숫자 대신 텍스트를 넣어보았으나 에러가 발생하지는 않았다."
   ]
  },
  {
   "cell_type": "code",
   "execution_count": 27,
   "metadata": {
    "ExecuteTime": {
     "end_time": "2018-01-02T06:26:56.199949Z",
     "start_time": "2018-01-02T06:26:56.172Z"
    }
   },
   "outputs": [
    {
     "data": {
      "text/plain": [
       "NaN"
      ]
     },
     "execution_count": 27,
     "metadata": {},
     "output_type": "execute_result"
    }
   ],
   "source": [
    "tax;\n",
    "\n",
    "// 변수는 생성되었으나 제대로 값이 저장되지 않았다."
   ]
  },
  {
   "cell_type": "code",
   "execution_count": 29,
   "metadata": {
    "ExecuteTime": {
     "end_time": "2018-01-02T06:27:28.993972Z",
     "start_time": "2018-01-02T06:27:28.964Z"
    }
   },
   "outputs": [
    {
     "data": {
      "text/plain": [
       "undefined"
      ]
     },
     "execution_count": 29,
     "metadata": {},
     "output_type": "execute_result"
    }
   ],
   "source": [
    "let tax2 : number = calcTax('NJ', 50000, 2);"
   ]
  },
  {
   "cell_type": "code",
   "execution_count": 30,
   "metadata": {
    "ExecuteTime": {
     "end_time": "2018-01-02T06:27:32.290448Z",
     "start_time": "2018-01-02T06:27:32.262Z"
    }
   },
   "outputs": [
    {
     "data": {
      "text/plain": [
       "1900"
      ]
     },
     "execution_count": 30,
     "metadata": {},
     "output_type": "execute_result"
    }
   ],
   "source": [
    "tax2;"
   ]
  },
  {
   "cell_type": "code",
   "execution_count": null,
   "metadata": {},
   "outputs": [],
   "source": []
  }
 ],
 "metadata": {
  "kernelspec": {
   "display_name": "Typescript 2.6",
   "language": "typescript",
   "name": "typescript"
  },
  "language_info": {
   "file_extension": ".ts",
   "mimetype": "text/x-typescript",
   "name": "typescript",
   "version": "2.6.2"
  }
 },
 "nbformat": 4,
 "nbformat_minor": 2
}
