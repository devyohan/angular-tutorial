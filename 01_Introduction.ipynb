{
 "cells": [
  {
   "cell_type": "markdown",
   "metadata": {},
   "source": [
    "# TypeScript 로 Angular 공부하기"
   ]
  },
  {
   "cell_type": "markdown",
   "metadata": {},
   "source": [
    "## 먼저 ECMAScript 6 와 TypeScript 배우기"
   ]
  },
  {
   "cell_type": "markdown",
   "metadata": {},
   "source": [
    "### 왜 TypeScript 로 Angular 를 개발할까?\n",
    "\n",
    "- 개발 생산성을 위하여\n",
    "    - JavaScript 로 디버깅시 Runtime error 만 발생하기 때문에 디버깅이 다소 제한적이다.\n",
    "    - TypeScript 는 컴파일 과정을 거치기 때문에 코드 작성중에 발생되는 문제에 대해 비교적 유리하게 대처할 수 있다.\n",
    "    - 데이터 타입이 있다.\n",
    "    - IDE 에서 개발시 더욱 유리하다.\n",
    "- Angular 가이드 문서에서 제공하는 예제 코드 등은 모두 TypeScript 로 먼저 제공된다."
   ]
  },
  {
   "cell_type": "markdown",
   "metadata": {},
   "source": [
    "### TypeScript 기본 배우기"
   ]
  },
  {
   "cell_type": "markdown",
   "metadata": {},
   "source": [
    "- http://www.typescriptlang.org\n",
    "- http://www.typescriptlang.org/docs/home.html\n",
    "- http://www.typescriptlang.org/docs/handbook/typescript-in-5-minutes.html"
   ]
  },
  {
   "cell_type": "markdown",
   "metadata": {},
   "source": [
    "<img src=\"data:image/png;base64,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\">"
   ]
  },
  {
   "cell_type": "markdown",
   "metadata": {},
   "source": [
    "### Jupyter Notebook 으로 TypeScript 학습시 주의 점\n",
    "\n",
    "- 일반적으로 사용되는 브라우저에 포함되어 있는 document 함수는 사용할 수 없다."
   ]
  },
  {
   "cell_type": "code",
   "execution_count": 3,
   "metadata": {
    "ExecuteTime": {
     "end_time": "2018-01-02T04:01:29.837026Z",
     "start_time": "2018-01-02T04:01:29.758Z"
    }
   },
   "outputs": [
    {
     "ename": "ReferenceError",
     "evalue": "document is not defined",
     "output_type": "error",
     "traceback": [
      "evalmachine.<anonymous>:8",
      "var button = document.createElement(\"button\");",
      "             ^",
      "",
      "ReferenceError: document is not defined",
      "    at evalmachine.<anonymous>:8:14",
      "    at ContextifyScript.Script.runInThisContext (vm.js:25:33)",
      "    at Object.runInThisContext (vm.js:97:38)",
      "    at run ([eval]:971:15)",
      "    at onRunRequest ([eval]:798:18)",
      "    at onMessage ([eval]:758:13)",
      "    at emitTwo (events.js:106:13)",
      "    at process.emit (events.js:191:7)",
      "    at process.nextTick (internal/child_process.js:787:12)",
      "    at _combinedTickCallback (internal/process/next_tick.js:73:7)"
     ]
    }
   ],
   "source": [
    "function Greeter(greeting: string) {\n",
    "    this.greeting = greeting;\n",
    "}\n",
    "\n",
    "Greeter.prototype.greet = function() {\n",
    "    return \"Hello, \" + this.greeting;\n",
    "}\n",
    "\n",
    "let greater = new Greeter(\"world\");\n",
    "\n",
    "let button = document.createElement(\"button\");\n",
    "button.textContent = \"Say Hello\";\n",
    "button.onclick = function() {\n",
    "    alert(greeter.greet());\n",
    "};\n",
    "\n",
    "document.body.appendChild(button);"
   ]
  },
  {
   "cell_type": "markdown",
   "metadata": {},
   "source": [
    "### 데이터 타입 지정"
   ]
  },
  {
   "cell_type": "code",
   "execution_count": 4,
   "metadata": {
    "ExecuteTime": {
     "end_time": "2018-01-02T05:54:11.645683Z",
     "start_time": "2018-01-02T05:54:11.582Z"
    }
   },
   "outputs": [
    {
     "data": {
      "text/plain": [
       "undefined"
      ]
     },
     "execution_count": 4,
     "metadata": {},
     "output_type": "execute_result"
    }
   ],
   "source": [
    "let name1 = 'John Smith';\n",
    "let name2 : string = 'John Smith';"
   ]
  },
  {
   "cell_type": "code",
   "execution_count": 8,
   "metadata": {
    "ExecuteTime": {
     "end_time": "2018-01-02T05:55:01.600734Z",
     "start_time": "2018-01-02T05:55:01.471Z"
    }
   },
   "outputs": [
    {
     "data": {
      "text/plain": [
       "'string'"
      ]
     },
     "execution_count": 8,
     "metadata": {},
     "output_type": "execute_result"
    }
   ],
   "source": [
    "typeof(name1);"
   ]
  },
  {
   "cell_type": "code",
   "execution_count": 9,
   "metadata": {
    "ExecuteTime": {
     "end_time": "2018-01-02T05:55:02.440012Z",
     "start_time": "2018-01-02T05:55:02.406Z"
    }
   },
   "outputs": [
    {
     "data": {
      "text/plain": [
       "'string'"
      ]
     },
     "execution_count": 9,
     "metadata": {},
     "output_type": "execute_result"
    }
   ],
   "source": [
    "typeof(name2);"
   ]
  },
  {
   "cell_type": "code",
   "execution_count": 10,
   "metadata": {
    "ExecuteTime": {
     "end_time": "2018-01-02T06:00:10.670880Z",
     "start_time": "2018-01-02T06:00:10.635Z"
    }
   },
   "outputs": [
    {
     "data": {
      "text/plain": [
       "undefined"
      ]
     },
     "execution_count": 10,
     "metadata": {},
     "output_type": "execute_result"
    }
   ],
   "source": [
    "let salary : number;\n",
    "let name : string = 'Alex';\n",
    "let isValid : boolean;\n",
    "let customerName : string = null;"
   ]
  },
  {
   "cell_type": "markdown",
   "metadata": {},
   "source": [
    "### 함수\n",
    "\n",
    "- JavaScript 함수와 비슷하나 argument, return 값에 데이터 타입을 지정할 수 있다는 점이 다르다."
   ]
  },
  {
   "cell_type": "code",
   "execution_count": 13,
   "metadata": {
    "ExecuteTime": {
     "end_time": "2018-01-02T06:24:05.070747Z",
     "start_time": "2018-01-02T06:24:05.037Z"
    }
   },
   "outputs": [
    {
     "data": {
      "text/plain": [
       "undefined"
      ]
     },
     "execution_count": 13,
     "metadata": {},
     "output_type": "execute_result"
    }
   ],
   "source": [
    "function calcTax(state : string, income : number, dependents : number) : number {\n",
    "    if(state === 'NY') {\n",
    "        return income * 0.06 - dependents * 500;\n",
    "    } else if(state === 'NJ') {\n",
    "        return income * 0.05 - dependents * 300;\n",
    "    }\n",
    "}"
   ]
  },
  {
   "cell_type": "code",
   "execution_count": 18,
   "metadata": {
    "ExecuteTime": {
     "end_time": "2018-01-02T06:25:42.337676Z",
     "start_time": "2018-01-02T06:25:42.311Z"
    }
   },
   "outputs": [
    {
     "data": {
      "text/plain": [
       "undefined"
      ]
     },
     "execution_count": 18,
     "metadata": {},
     "output_type": "execute_result"
    }
   ],
   "source": [
    "let tax : number = calcTax('NJ', 50000, 'two');\n",
    "\n",
    "// 강제로 3번째 인자로 숫자 대신 텍스트를 넣어보았으나 에러가 발생하지는 않았다."
   ]
  },
  {
   "cell_type": "code",
   "execution_count": 27,
   "metadata": {
    "ExecuteTime": {
     "end_time": "2018-01-02T06:26:56.199949Z",
     "start_time": "2018-01-02T06:26:56.172Z"
    }
   },
   "outputs": [
    {
     "data": {
      "text/plain": [
       "NaN"
      ]
     },
     "execution_count": 27,
     "metadata": {},
     "output_type": "execute_result"
    }
   ],
   "source": [
    "tax;\n",
    "\n",
    "// 변수는 생성되었으나 제대로 값이 저장되지 않았다."
   ]
  },
  {
   "cell_type": "code",
   "execution_count": 29,
   "metadata": {
    "ExecuteTime": {
     "end_time": "2018-01-02T06:27:28.993972Z",
     "start_time": "2018-01-02T06:27:28.964Z"
    }
   },
   "outputs": [
    {
     "data": {
      "text/plain": [
       "undefined"
      ]
     },
     "execution_count": 29,
     "metadata": {},
     "output_type": "execute_result"
    }
   ],
   "source": [
    "let tax2 : number = calcTax('NJ', 50000, 2);"
   ]
  },
  {
   "cell_type": "code",
   "execution_count": 30,
   "metadata": {
    "ExecuteTime": {
     "end_time": "2018-01-02T06:27:32.290448Z",
     "start_time": "2018-01-02T06:27:32.262Z"
    }
   },
   "outputs": [
    {
     "data": {
      "text/plain": [
       "1900"
      ]
     },
     "execution_count": 30,
     "metadata": {},
     "output_type": "execute_result"
    }
   ],
   "source": [
    "tax2;"
   ]
  },
  {
   "cell_type": "markdown",
   "metadata": {},
   "source": [
    "### 함수 인자에 기본값, 옵션 정의하기"
   ]
  },
  {
   "cell_type": "code",
   "execution_count": 31,
   "metadata": {
    "ExecuteTime": {
     "end_time": "2018-01-02T07:25:04.992922Z",
     "start_time": "2018-01-02T07:25:04.955Z"
    }
   },
   "outputs": [
    {
     "data": {
      "text/plain": [
       "undefined"
      ]
     },
     "execution_count": 31,
     "metadata": {},
     "output_type": "execute_result"
    }
   ],
   "source": [
    "function calcTax(income : number, state : string = 'NY', dependents? : number) : number {\n",
    "    \n",
    "    let deduction : number;\n",
    "    \n",
    "    // 옵션 인자가 전달됐을 때 처리하는 로직\n",
    "    if(dependents) {\n",
    "        deduction = dependents * 500;\n",
    "    } else {\n",
    "        deduction = 0;\n",
    "    }\n",
    "    \n",
    "    if(state === 'NY') {\n",
    "        return income * 0.06 - dependents * 500;\n",
    "    } else if(state === 'NJ') {\n",
    "        return income * 0.05 - dependents * 300;\n",
    "    }\n",
    "}"
   ]
  },
  {
   "cell_type": "markdown",
   "metadata": {},
   "source": [
    "### 화살표 함수 표현식\n",
    "\n",
    "- 익명 함수"
   ]
  },
  {
   "cell_type": "code",
   "execution_count": 32,
   "metadata": {
    "ExecuteTime": {
     "end_time": "2018-01-02T07:34:36.857444Z",
     "start_time": "2018-01-02T07:34:36.806Z"
    }
   },
   "outputs": [
    {
     "name": "stdout",
     "output_type": "stream",
     "text": [
      "John Smith\n"
     ]
    },
    {
     "data": {
      "text/plain": [
       "undefined"
      ]
     },
     "execution_count": 32,
     "metadata": {},
     "output_type": "execute_result"
    }
   ],
   "source": [
    "let getName = () => 'John Smith';\n",
    "console.log(getName());"
   ]
  },
  {
   "cell_type": "markdown",
   "metadata": {},
   "source": [
    "### 메소드"
   ]
  },
  {
   "cell_type": "code",
   "execution_count": 33,
   "metadata": {
    "ExecuteTime": {
     "end_time": "2018-01-02T08:00:22.470362Z",
     "start_time": "2018-01-02T08:00:22.420Z"
    }
   },
   "outputs": [
    {
     "data": {
      "text/plain": [
       "undefined"
      ]
     },
     "execution_count": 33,
     "metadata": {},
     "output_type": "execute_result"
    }
   ],
   "source": [
    "class MyClass {\n",
    "    doSomething(howManyTimes : number) : void {\n",
    "        // Do something!!\n",
    "    }\n",
    "}"
   ]
  },
  {
   "cell_type": "code",
   "execution_count": 34,
   "metadata": {
    "ExecuteTime": {
     "end_time": "2018-01-02T08:00:35.759623Z",
     "start_time": "2018-01-02T08:00:35.717Z"
    }
   },
   "outputs": [
    {
     "data": {
      "text/plain": [
       "undefined"
      ]
     },
     "execution_count": 34,
     "metadata": {},
     "output_type": "execute_result"
    }
   ],
   "source": [
    "let mc = new MyClass();"
   ]
  },
  {
   "cell_type": "code",
   "execution_count": 35,
   "metadata": {
    "ExecuteTime": {
     "end_time": "2018-01-02T08:00:40.187696Z",
     "start_time": "2018-01-02T08:00:40.141Z"
    }
   },
   "outputs": [
    {
     "data": {
      "text/plain": [
       "undefined"
      ]
     },
     "execution_count": 35,
     "metadata": {},
     "output_type": "execute_result"
    }
   ],
   "source": [
    "mc.doSomething(5);"
   ]
  },
  {
   "cell_type": "markdown",
   "metadata": {},
   "source": [
    "### static 메소드"
   ]
  },
  {
   "cell_type": "code",
   "execution_count": 36,
   "metadata": {
    "ExecuteTime": {
     "end_time": "2018-01-02T08:04:07.692351Z",
     "start_time": "2018-01-02T08:04:07.613Z"
    }
   },
   "outputs": [
    {
     "data": {
      "text/plain": [
       "undefined"
      ]
     },
     "execution_count": 36,
     "metadata": {},
     "output_type": "execute_result"
    }
   ],
   "source": [
    "class MyClass2 {\n",
    "    static doSomething(howManyTimes : number) : void {\n",
    "        // Do something!!!\n",
    "    }\n",
    "}"
   ]
  },
  {
   "cell_type": "code",
   "execution_count": 37,
   "metadata": {
    "ExecuteTime": {
     "end_time": "2018-01-02T08:04:21.574166Z",
     "start_time": "2018-01-02T08:04:21.533Z"
    }
   },
   "outputs": [
    {
     "data": {
      "text/plain": [
       "undefined"
      ]
     },
     "execution_count": 37,
     "metadata": {},
     "output_type": "execute_result"
    }
   ],
   "source": [
    "MyClass2.doSomething(5);"
   ]
  },
  {
   "cell_type": "markdown",
   "metadata": {},
   "source": [
    "### getter, setter\n",
    "\n",
    "- ES5 부터 도입되었다."
   ]
  },
  {
   "cell_type": "code",
   "execution_count": 49,
   "metadata": {
    "ExecuteTime": {
     "end_time": "2018-01-02T08:18:40.914269Z",
     "start_time": "2018-01-02T08:18:40.861Z"
    }
   },
   "outputs": [
    {
     "data": {
      "text/plain": [
       "undefined"
      ]
     },
     "execution_count": 49,
     "metadata": {},
     "output_type": "execute_result"
    }
   ],
   "source": [
    "class Person {\n",
    "    \n",
    "    constructor(public firstName : string, public lastName : string,\n",
    "                public age : number, private _ssn? : string) {\n",
    "                \n",
    "    }\n",
    "    \n",
    "    get ssn() : string {\n",
    "        return this._ssn;\n",
    "    }\n",
    "    \n",
    "    set ssn(value : string) {\n",
    "        this._ssn = value;\n",
    "    }\n",
    "}"
   ]
  },
  {
   "cell_type": "code",
   "execution_count": 39,
   "metadata": {
    "ExecuteTime": {
     "end_time": "2018-01-02T08:07:52.413095Z",
     "start_time": "2018-01-02T08:07:52.334Z"
    }
   },
   "outputs": [
    {
     "data": {
      "text/plain": [
       "undefined"
      ]
     },
     "execution_count": 39,
     "metadata": {},
     "output_type": "execute_result"
    }
   ],
   "source": [
    "let p = new Person('John', 'Smith', 29);"
   ]
  },
  {
   "cell_type": "code",
   "execution_count": 40,
   "metadata": {
    "ExecuteTime": {
     "end_time": "2018-01-02T08:08:12.195366Z",
     "start_time": "2018-01-02T08:08:12.128Z"
    }
   },
   "outputs": [
    {
     "data": {
      "text/plain": [
       "'456-70-1234'"
      ]
     },
     "execution_count": 40,
     "metadata": {},
     "output_type": "execute_result"
    }
   ],
   "source": [
    "p.ssn = '456-70-1234';"
   ]
  },
  {
   "cell_type": "code",
   "execution_count": 42,
   "metadata": {
    "ExecuteTime": {
     "end_time": "2018-01-02T08:09:09.797416Z",
     "start_time": "2018-01-02T08:09:09.712Z"
    }
   },
   "outputs": [
    {
     "name": "stdout",
     "output_type": "stream",
     "text": [
      "Last name : Smith, SSN : 456-70-1234\n"
     ]
    },
    {
     "data": {
      "text/plain": [
       "undefined"
      ]
     },
     "execution_count": 42,
     "metadata": {},
     "output_type": "execute_result"
    }
   ],
   "source": [
    "console.log('Last name : ' + p.lastName + ', SSN : ' + p.ssn);"
   ]
  },
  {
   "cell_type": "markdown",
   "metadata": {},
   "source": [
    "### 클래스 상속"
   ]
  },
  {
   "cell_type": "code",
   "execution_count": 50,
   "metadata": {
    "ExecuteTime": {
     "end_time": "2018-01-02T08:18:43.586515Z",
     "start_time": "2018-01-02T08:18:43.508Z"
    }
   },
   "outputs": [
    {
     "ename": "ReferenceError",
     "evalue": "__extends is not defined",
     "output_type": "error",
     "traceback": [
      "evalmachine.<anonymous>:2",
      "    __extends(Employee, _super);",
      "    ^",
      "",
      "ReferenceError: __extends is not defined",
      "    at evalmachine.<anonymous>:2:5",
      "    at evalmachine.<anonymous>:9:2",
      "    at ContextifyScript.Script.runInThisContext (vm.js:25:33)",
      "    at Object.runInThisContext (vm.js:97:38)",
      "    at run ([eval]:971:15)",
      "    at onRunRequest ([eval]:798:18)",
      "    at onMessage ([eval]:758:13)",
      "    at emitTwo (events.js:106:13)",
      "    at process.emit (events.js:191:7)",
      "    at process.nextTick (internal/child_process.js:787:12)"
     ]
    }
   ],
   "source": [
    "class Employee extends Person {\n",
    "    \n",
    "    department : string;\n",
    "    \n",
    "    constructor(firstName : string, lastName : string,\n",
    "                age : number, _ssn : string, department : string) {\n",
    "        super(firstName, lastName, age, _ssn);\n",
    "        this.department = department;\n",
    "    }\n",
    "}"
   ]
  },
  {
   "cell_type": "code",
   "execution_count": null,
   "metadata": {},
   "outputs": [],
   "source": []
  }
 ],
 "metadata": {
  "kernelspec": {
   "display_name": "Typescript 2.6",
   "language": "typescript",
   "name": "typescript"
  },
  "language_info": {
   "file_extension": ".ts",
   "mimetype": "text/x-typescript",
   "name": "typescript",
   "version": "2.6.2"
  }
 },
 "nbformat": 4,
 "nbformat_minor": 2
}
